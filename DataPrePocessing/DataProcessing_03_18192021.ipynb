{
 "cells": [
  {
   "cell_type": "markdown",
   "metadata": {},
   "source": [
    "# Library Requirements"
   ]
  },
  {
   "cell_type": "code",
   "execution_count": 1,
   "metadata": {
    "ExecuteTime": {
     "end_time": "2022-02-12T13:52:59.156668Z",
     "start_time": "2022-02-12T13:52:57.837812Z"
    },
    "scrolled": true
   },
   "outputs": [],
   "source": [
    "import pandas as pd\n",
    "import numpy as np\n",
    "import json\n",
    "import requests\n",
    "\n",
    "from tmdbv3api import TMDb, Movie"
   ]
  },
  {
   "cell_type": "markdown",
   "metadata": {},
   "source": [
    "# Data Load"
   ]
  },
  {
   "cell_type": "markdown",
   "metadata": {},
   "source": [
    "## Scrap movie data from wikipedia"
   ]
  },
  {
   "cell_type": "code",
   "execution_count": 2,
   "metadata": {
    "ExecuteTime": {
     "end_time": "2022-02-12T13:53:14.067741Z",
     "start_time": "2022-02-12T13:52:59.158692Z"
    },
    "scrolled": true
   },
   "outputs": [
    {
     "name": "stdout",
     "output_type": "stream",
     "text": [
      "File : Loading 2018\n",
      "File : Loading 2018 -> Adding Tables : Shape -> (74, 6) !!!\n",
      "File : Loading 2018 -> Adding Tables : Shape -> (137, 7) !!!\n",
      "File : Loading 2018 -> Adding Tables : Shape -> (206, 7) !!!\n",
      "File : Loading 2018 -> Adding Tables : Shape -> (272, 7) !!!\n",
      "File : 2018 Successfully added to MASTER DATAFRAME\n",
      "------------------------------------------------------------\n",
      "File : Loading 2019\n",
      "File : Loading 2019 -> Adding Tables : Shape -> (321, 7) !!!\n",
      "File : Loading 2019 -> Adding Tables : Shape -> (388, 7) !!!\n",
      "File : Loading 2019 -> Adding Tables : Shape -> (444, 7) !!!\n",
      "File : Loading 2019 -> Adding Tables : Shape -> (514, 7) !!!\n",
      "File : 2019 Successfully added to MASTER DATAFRAME\n",
      "------------------------------------------------------------\n",
      "File : Loading 2020\n",
      "File : Loading 2020 -> Adding Tables : Shape -> (571, 7) !!!\n",
      "File : Loading 2020 -> Adding Tables : Shape -> (616, 7) !!!\n",
      "File : Loading 2020 -> Adding Tables : Shape -> (688, 7) !!!\n",
      "File : Loading 2020 -> Adding Tables : Shape -> (788, 7) !!!\n",
      "File : 2020 Successfully added to MASTER DATAFRAME\n",
      "------------------------------------------------------------\n",
      "File : Loading 2021\n",
      "File : Loading 2021 -> Adding Tables : Shape -> (854, 7) !!!\n",
      "File : Loading 2021 -> Adding Tables : Shape -> (941, 7) !!!\n",
      "File : Loading 2021 -> Adding Tables : Shape -> (1051, 7) !!!\n",
      "File : Loading 2021 -> Adding Tables : Shape -> (1145, 7) !!!\n",
      "File : 2021 Successfully added to MASTER DATAFRAME\n",
      "------------------------------------------------------------\n",
      "Master Dataframe -> 'Movie_df' is ready for further processing !!!\n"
     ]
    }
   ],
   "source": [
    "year_list = [2018, 2019, 2020, 2021]\n",
    "movie_df = pd.DataFrame()\n",
    "\n",
    "# Loop through years and fetch data tables\n",
    "for year in year_list:\n",
    "    \n",
    "    # Requirements check - (Manual check done)\n",
    "    if (year == 2018 or year == 2019 or year == 2020):\n",
    "        print(f\"File : Loading {year}\")\n",
    "        website_link = f\"https://en.wikipedia.org/wiki/List_of_American_films_of_{year}\"\n",
    "        for i in range(2, 6):\n",
    "            movie_df = movie_df.append(pd.read_html(\n",
    "                website_link, header=0)[i], ignore_index=True)\n",
    "            print(\n",
    "                f\"File : Loading {year} -> Adding Tables : Shape -> {movie_df.shape} !!!\")\n",
    "        print(f\"File : {year} Successfully added to MASTER DATAFRAME\")\n",
    "        print(\"------------------------------------------------------------\")\n",
    "\n",
    "    else:\n",
    "        print(f\"File : Loading {year}\")\n",
    "        website_link = f\"https://en.wikipedia.org/wiki/List_of_American_films_of_{year}\"\n",
    "        for i in range(3, 7):\n",
    "            movie_df = movie_df.append(pd.read_html(\n",
    "                website_link, header=0)[i], ignore_index=True)\n",
    "            print(\n",
    "                f\"File : Loading {year} -> Adding Tables : Shape -> {movie_df.shape} !!!\")\n",
    "        print(f\"File : {year} Successfully added to MASTER DATAFRAME\")\n",
    "        print(\"------------------------------------------------------------\")\n",
    "        \n",
    "# Status Update\n",
    "print(\"Master Dataframe -> 'Movie_df' is ready for further processing !!!\")"
   ]
  },
  {
   "cell_type": "markdown",
   "metadata": {},
   "source": [
    "# Data Processing"
   ]
  },
  {
   "cell_type": "code",
   "execution_count": 6,
   "metadata": {
    "ExecuteTime": {
     "end_time": "2022-02-12T13:53:41.103271Z",
     "start_time": "2022-02-12T13:53:41.066001Z"
    }
   },
   "outputs": [],
   "source": [
    "def get_directors(x):\n",
    "    \"\"\"[summary]\n",
    "\n",
    "    Args:\n",
    "        x ([type]): [description]\n",
    "\n",
    "    Returns:\n",
    "        [type]: [description]\n",
    "    \"\"\"\n",
    "    if \" (director)\" in x:\n",
    "        return x.split(\" (director)\")[0]\n",
    "    elif \" (director) \" in x:\n",
    "        return x.split(\" (director)\")[0]\n",
    "    elif \" (directors) \" in x:\n",
    "        return x.split(\" (director)\")[0]\n",
    "    elif \" (directors)\" in x:\n",
    "        return x.split(\" (director)\")[0]\n",
    "    else:\n",
    "        return x.split(\" (director/screenplay)\")[0]\n",
    "\n",
    "\n",
    "def get_actors(x):\n",
    "    \"\"\"[summary]\n",
    "\n",
    "    Args:\n",
    "        x ([type]): [description]\n",
    "\n",
    "    Returns:\n",
    "        [type]: [description]\n",
    "    \"\"\"\n",
    "    return x.split(\";\")[-1].split(',')\n",
    "\n",
    "\n",
    "def get_genres(x):\n",
    "    \"\"\"[summary]\n",
    "\n",
    "    Args:\n",
    "        x ([type]): [description]\n",
    "\n",
    "    Returns:\n",
    "        [type]: [description]\n",
    "    \"\"\"\n",
    "    genres = []\n",
    "    tmdb = TMDb()\n",
    "    movie_TMDB = Movie()\n",
    "    tmdb.api_key = '---YOUR API KEY---'\n",
    "    result = movie_TMDB.search(x)\n",
    "    if not result:\n",
    "        return np.NaN\n",
    "    else:\n",
    "        movie_id = result[0].id\n",
    "        response = requests.get(\n",
    "            f\"https://api.themoviedb.org/3/movie/{movie_id}?api_key={tmdb.api_key}\")\n",
    "        json_data = response.json()\n",
    "\n",
    "        if json_data['genres']:\n",
    "            genre_string = \" \"\n",
    "            for i in range(len(json_data['genres'])):\n",
    "                genres.append(json_data['genres'][i]['name'])\n",
    "            return genre_string.join(genres)\n",
    "        else:\n",
    "            np.NaN\n",
    "\n",
    "\n",
    "def clean_data(df):\n",
    "    \"\"\"[summary]\n",
    "\n",
    "    Args:\n",
    "        df ([type]): [description]\n",
    "\n",
    "    Returns:\n",
    "        [type]: [description]\n",
    "    \"\"\"\n",
    "    # Drop Unneccessary columns\n",
    "    df = df.drop(columns=['Opening', 'Opening.1',\n",
    "                 '.mw-parser-output .tooltip-dotted{border-bottom:1px dotted;cursor:help}Ref.', 'Ref.'])\n",
    "\n",
    "    # get directors name\n",
    "    df['director_name'] = df['Cast and crew'].map(\n",
    "        lambda x: get_directors(str(x)))\n",
    "    print(\"Director column status : done !!!\")\n",
    "\n",
    "    # get actor names\n",
    "    actor_df = df['Cast and crew'].map(lambda x: get_actors(x)).apply(pd.Series).iloc[:, :3].rename(\n",
    "        columns={0: 'actor_1_name', 1: 'actor_2_name', 2: 'actor_3_name'})\n",
    "    df = df.join(actor_df)\n",
    "    print(\"Actor columns status : done !!!\")\n",
    "\n",
    "    # get genres\n",
    "    df['genres'] = df['Title'].map(lambda x: get_genres(x))\n",
    "    print(\"Genres column status : done !!!\")\n",
    "\n",
    "    # drop unnecessary columns\n",
    "    df = df.drop(columns=['Production company', 'Cast and crew'])\n",
    "\n",
    "    # change columns names according to master table\n",
    "    df = df.rename(columns={'Title': 'movie_title'})\n",
    "    df['movie_title'] = df['movie_title'].str.lower()\n",
    "\n",
    "    # drop any null values\n",
    "    df = df.dropna(how='any')\n",
    "\n",
    "    # stripping all the values to maintain consistancy\n",
    "    for col in df.columns:\n",
    "        if not df[col].isnull().all():\n",
    "            df[col] = df[col].str.strip()\n",
    "\n",
    "    # Combination of columns\n",
    "    df['comb'] = df['actor_1_name'] + ' ' + df['actor_2_name'] + ' ' + \\\n",
    "        df['actor_3_name'] + ' ' + df['director_name'] + ' ' + df['genres']\n",
    "\n",
    "    print(\"!!!-----Successfully cleaned dataframe------!!!\")\n",
    "\n",
    "    return df"
   ]
  },
  {
   "cell_type": "code",
   "execution_count": 7,
   "metadata": {
    "ExecuteTime": {
     "end_time": "2022-02-12T14:00:34.558723Z",
     "start_time": "2022-02-12T13:53:45.629263Z"
    },
    "scrolled": true
   },
   "outputs": [
    {
     "name": "stdout",
     "output_type": "stream",
     "text": [
      "Director column status : done !!!\n",
      "Actor columns status : done !!!\n",
      "Genres column status : done !!!\n",
      "!!!-----Successfully cleaned dataframe------!!!\n"
     ]
    }
   ],
   "source": [
    "# Create Cleaned dataframe -> Higher Time Consumption\n",
    "cleaned_df = clean_data(movie_df)"
   ]
  },
  {
   "cell_type": "markdown",
   "metadata": {},
   "source": [
    "# Data Export"
   ]
  },
  {
   "cell_type": "code",
   "execution_count": 110,
   "metadata": {
    "ExecuteTime": {
     "end_time": "2022-02-12T15:33:12.415159Z",
     "start_time": "2022-02-12T15:33:12.346430Z"
    }
   },
   "outputs": [],
   "source": [
    "cleaned_df.to_csv(\"MyData/movie_data_18192021.csv\", index=False)"
   ]
  }
 ],
 "metadata": {
  "kernelspec": {
   "display_name": "Python 3",
   "language": "python",
   "name": "python3"
  },
  "language_info": {
   "codemirror_mode": {
    "name": "ipython",
    "version": 3
   },
   "file_extension": ".py",
   "mimetype": "text/x-python",
   "name": "python",
   "nbconvert_exporter": "python",
   "pygments_lexer": "ipython3",
   "version": "3.7.9"
  },
  "toc": {
   "base_numbering": 1,
   "nav_menu": {},
   "number_sections": true,
   "sideBar": true,
   "skip_h1_title": false,
   "title_cell": "Table of Contents",
   "title_sidebar": "Contents",
   "toc_cell": false,
   "toc_position": {},
   "toc_section_display": true,
   "toc_window_display": false
  },
  "varInspector": {
   "cols": {
    "lenName": 16,
    "lenType": 16,
    "lenVar": 40
   },
   "kernels_config": {
    "python": {
     "delete_cmd_postfix": "",
     "delete_cmd_prefix": "del ",
     "library": "var_list.py",
     "varRefreshCmd": "print(var_dic_list())"
    },
    "r": {
     "delete_cmd_postfix": ") ",
     "delete_cmd_prefix": "rm(",
     "library": "var_list.r",
     "varRefreshCmd": "cat(var_dic_list()) "
    }
   },
   "types_to_exclude": [
    "module",
    "function",
    "builtin_function_or_method",
    "instance",
    "_Feature"
   ],
   "window_display": false
  }
 },
 "nbformat": 4,
 "nbformat_minor": 4
}
