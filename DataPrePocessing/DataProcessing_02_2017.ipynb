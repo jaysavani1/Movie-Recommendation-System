{
 "cells": [
  {
   "cell_type": "markdown",
   "metadata": {},
   "source": [
    "# Module Requirements"
   ]
  },
  {
   "cell_type": "code",
   "execution_count": 2,
   "metadata": {
    "ExecuteTime": {
     "end_time": "2022-01-22T19:21:24.732346Z",
     "start_time": "2022-01-22T19:21:23.818230Z"
    }
   },
   "outputs": [],
   "source": [
    "import pandas as pd #for dataframes\n",
    "import numpy as np #for null values and numerical transformations\n",
    "import ast # In dictionaries -> for converting string into list "
   ]
  },
  {
   "cell_type": "markdown",
   "metadata": {},
   "source": [
    "# Data Load"
   ]
  },
  {
   "cell_type": "markdown",
   "metadata": {},
   "source": [
    "## credits.csv"
   ]
  },
  {
   "cell_type": "code",
   "execution_count": 3,
   "metadata": {
    "ExecuteTime": {
     "end_time": "2022-01-22T19:21:27.321403Z",
     "start_time": "2022-01-22T19:21:24.738329Z"
    }
   },
   "outputs": [],
   "source": [
    "# Load Credits CSV files\n",
    "df = pd.read_csv('datasets/credits.csv')"
   ]
  },
  {
   "cell_type": "code",
   "execution_count": 4,
   "metadata": {
    "ExecuteTime": {
     "end_time": "2022-01-22T19:21:27.353318Z",
     "start_time": "2022-01-22T19:21:27.324397Z"
    },
    "scrolled": true
   },
   "outputs": [
    {
     "data": {
      "text/html": [
       "<div>\n",
       "<style scoped>\n",
       "    .dataframe tbody tr th:only-of-type {\n",
       "        vertical-align: middle;\n",
       "    }\n",
       "\n",
       "    .dataframe tbody tr th {\n",
       "        vertical-align: top;\n",
       "    }\n",
       "\n",
       "    .dataframe thead th {\n",
       "        text-align: right;\n",
       "    }\n",
       "</style>\n",
       "<table border=\"1\" class=\"dataframe\">\n",
       "  <thead>\n",
       "    <tr style=\"text-align: right;\">\n",
       "      <th></th>\n",
       "      <th>cast</th>\n",
       "      <th>crew</th>\n",
       "      <th>id</th>\n",
       "    </tr>\n",
       "  </thead>\n",
       "  <tbody>\n",
       "    <tr>\n",
       "      <th>0</th>\n",
       "      <td>[{'cast_id': 14, 'character': 'Woody (voice)',...</td>\n",
       "      <td>[{'credit_id': '52fe4284c3a36847f8024f49', 'de...</td>\n",
       "      <td>862</td>\n",
       "    </tr>\n",
       "    <tr>\n",
       "      <th>1</th>\n",
       "      <td>[{'cast_id': 1, 'character': 'Alan Parrish', '...</td>\n",
       "      <td>[{'credit_id': '52fe44bfc3a36847f80a7cd1', 'de...</td>\n",
       "      <td>8844</td>\n",
       "    </tr>\n",
       "    <tr>\n",
       "      <th>2</th>\n",
       "      <td>[{'cast_id': 2, 'character': 'Max Goldman', 'c...</td>\n",
       "      <td>[{'credit_id': '52fe466a9251416c75077a89', 'de...</td>\n",
       "      <td>15602</td>\n",
       "    </tr>\n",
       "    <tr>\n",
       "      <th>3</th>\n",
       "      <td>[{'cast_id': 1, 'character': \"Savannah 'Vannah...</td>\n",
       "      <td>[{'credit_id': '52fe44779251416c91011acb', 'de...</td>\n",
       "      <td>31357</td>\n",
       "    </tr>\n",
       "    <tr>\n",
       "      <th>4</th>\n",
       "      <td>[{'cast_id': 1, 'character': 'George Banks', '...</td>\n",
       "      <td>[{'credit_id': '52fe44959251416c75039ed7', 'de...</td>\n",
       "      <td>11862</td>\n",
       "    </tr>\n",
       "  </tbody>\n",
       "</table>\n",
       "</div>"
      ],
      "text/plain": [
       "                                                cast  \\\n",
       "0  [{'cast_id': 14, 'character': 'Woody (voice)',...   \n",
       "1  [{'cast_id': 1, 'character': 'Alan Parrish', '...   \n",
       "2  [{'cast_id': 2, 'character': 'Max Goldman', 'c...   \n",
       "3  [{'cast_id': 1, 'character': \"Savannah 'Vannah...   \n",
       "4  [{'cast_id': 1, 'character': 'George Banks', '...   \n",
       "\n",
       "                                                crew     id  \n",
       "0  [{'credit_id': '52fe4284c3a36847f8024f49', 'de...    862  \n",
       "1  [{'credit_id': '52fe44bfc3a36847f80a7cd1', 'de...   8844  \n",
       "2  [{'credit_id': '52fe466a9251416c75077a89', 'de...  15602  \n",
       "3  [{'credit_id': '52fe44779251416c91011acb', 'de...  31357  \n",
       "4  [{'credit_id': '52fe44959251416c75039ed7', 'de...  11862  "
      ]
     },
     "execution_count": 4,
     "metadata": {},
     "output_type": "execute_result"
    }
   ],
   "source": [
    "# Print first five records\n",
    "df.head()"
   ]
  },
  {
   "cell_type": "markdown",
   "metadata": {},
   "source": [
    "## movies_metadata.csv"
   ]
  },
  {
   "cell_type": "code",
   "execution_count": 5,
   "metadata": {
    "ExecuteTime": {
     "end_time": "2022-01-22T19:21:28.179112Z",
     "start_time": "2022-01-22T19:21:27.357308Z"
    }
   },
   "outputs": [],
   "source": [
    "# Load Movie Metadata CSV file\n",
    "\n",
    "meta = pd.read_csv('datasets/movies_metadata.csv', low_memory=False)"
   ]
  },
  {
   "cell_type": "code",
   "execution_count": 6,
   "metadata": {
    "ExecuteTime": {
     "end_time": "2022-01-22T19:21:28.226019Z",
     "start_time": "2022-01-22T19:21:28.182111Z"
    },
    "scrolled": true
   },
   "outputs": [
    {
     "data": {
      "text/html": [
       "<div>\n",
       "<style scoped>\n",
       "    .dataframe tbody tr th:only-of-type {\n",
       "        vertical-align: middle;\n",
       "    }\n",
       "\n",
       "    .dataframe tbody tr th {\n",
       "        vertical-align: top;\n",
       "    }\n",
       "\n",
       "    .dataframe thead th {\n",
       "        text-align: right;\n",
       "    }\n",
       "</style>\n",
       "<table border=\"1\" class=\"dataframe\">\n",
       "  <thead>\n",
       "    <tr style=\"text-align: right;\">\n",
       "      <th></th>\n",
       "      <th>adult</th>\n",
       "      <th>belongs_to_collection</th>\n",
       "      <th>budget</th>\n",
       "      <th>genres</th>\n",
       "      <th>homepage</th>\n",
       "      <th>id</th>\n",
       "      <th>imdb_id</th>\n",
       "      <th>original_language</th>\n",
       "      <th>original_title</th>\n",
       "      <th>overview</th>\n",
       "      <th>...</th>\n",
       "      <th>release_date</th>\n",
       "      <th>revenue</th>\n",
       "      <th>runtime</th>\n",
       "      <th>spoken_languages</th>\n",
       "      <th>status</th>\n",
       "      <th>tagline</th>\n",
       "      <th>title</th>\n",
       "      <th>video</th>\n",
       "      <th>vote_average</th>\n",
       "      <th>vote_count</th>\n",
       "    </tr>\n",
       "  </thead>\n",
       "  <tbody>\n",
       "    <tr>\n",
       "      <th>0</th>\n",
       "      <td>False</td>\n",
       "      <td>{'id': 10194, 'name': 'Toy Story Collection', ...</td>\n",
       "      <td>30000000</td>\n",
       "      <td>[{'id': 16, 'name': 'Animation'}, {'id': 35, '...</td>\n",
       "      <td>http://toystory.disney.com/toy-story</td>\n",
       "      <td>862</td>\n",
       "      <td>tt0114709</td>\n",
       "      <td>en</td>\n",
       "      <td>Toy Story</td>\n",
       "      <td>Led by Woody, Andy's toys live happily in his ...</td>\n",
       "      <td>...</td>\n",
       "      <td>1995-10-30</td>\n",
       "      <td>373554033.0</td>\n",
       "      <td>81.0</td>\n",
       "      <td>[{'iso_639_1': 'en', 'name': 'English'}]</td>\n",
       "      <td>Released</td>\n",
       "      <td>NaN</td>\n",
       "      <td>Toy Story</td>\n",
       "      <td>False</td>\n",
       "      <td>7.7</td>\n",
       "      <td>5415.0</td>\n",
       "    </tr>\n",
       "    <tr>\n",
       "      <th>1</th>\n",
       "      <td>False</td>\n",
       "      <td>NaN</td>\n",
       "      <td>65000000</td>\n",
       "      <td>[{'id': 12, 'name': 'Adventure'}, {'id': 14, '...</td>\n",
       "      <td>NaN</td>\n",
       "      <td>8844</td>\n",
       "      <td>tt0113497</td>\n",
       "      <td>en</td>\n",
       "      <td>Jumanji</td>\n",
       "      <td>When siblings Judy and Peter discover an encha...</td>\n",
       "      <td>...</td>\n",
       "      <td>1995-12-15</td>\n",
       "      <td>262797249.0</td>\n",
       "      <td>104.0</td>\n",
       "      <td>[{'iso_639_1': 'en', 'name': 'English'}, {'iso...</td>\n",
       "      <td>Released</td>\n",
       "      <td>Roll the dice and unleash the excitement!</td>\n",
       "      <td>Jumanji</td>\n",
       "      <td>False</td>\n",
       "      <td>6.9</td>\n",
       "      <td>2413.0</td>\n",
       "    </tr>\n",
       "    <tr>\n",
       "      <th>2</th>\n",
       "      <td>False</td>\n",
       "      <td>{'id': 119050, 'name': 'Grumpy Old Men Collect...</td>\n",
       "      <td>0</td>\n",
       "      <td>[{'id': 10749, 'name': 'Romance'}, {'id': 35, ...</td>\n",
       "      <td>NaN</td>\n",
       "      <td>15602</td>\n",
       "      <td>tt0113228</td>\n",
       "      <td>en</td>\n",
       "      <td>Grumpier Old Men</td>\n",
       "      <td>A family wedding reignites the ancient feud be...</td>\n",
       "      <td>...</td>\n",
       "      <td>1995-12-22</td>\n",
       "      <td>0.0</td>\n",
       "      <td>101.0</td>\n",
       "      <td>[{'iso_639_1': 'en', 'name': 'English'}]</td>\n",
       "      <td>Released</td>\n",
       "      <td>Still Yelling. Still Fighting. Still Ready for...</td>\n",
       "      <td>Grumpier Old Men</td>\n",
       "      <td>False</td>\n",
       "      <td>6.5</td>\n",
       "      <td>92.0</td>\n",
       "    </tr>\n",
       "    <tr>\n",
       "      <th>3</th>\n",
       "      <td>False</td>\n",
       "      <td>NaN</td>\n",
       "      <td>16000000</td>\n",
       "      <td>[{'id': 35, 'name': 'Comedy'}, {'id': 18, 'nam...</td>\n",
       "      <td>NaN</td>\n",
       "      <td>31357</td>\n",
       "      <td>tt0114885</td>\n",
       "      <td>en</td>\n",
       "      <td>Waiting to Exhale</td>\n",
       "      <td>Cheated on, mistreated and stepped on, the wom...</td>\n",
       "      <td>...</td>\n",
       "      <td>1995-12-22</td>\n",
       "      <td>81452156.0</td>\n",
       "      <td>127.0</td>\n",
       "      <td>[{'iso_639_1': 'en', 'name': 'English'}]</td>\n",
       "      <td>Released</td>\n",
       "      <td>Friends are the people who let you be yourself...</td>\n",
       "      <td>Waiting to Exhale</td>\n",
       "      <td>False</td>\n",
       "      <td>6.1</td>\n",
       "      <td>34.0</td>\n",
       "    </tr>\n",
       "    <tr>\n",
       "      <th>4</th>\n",
       "      <td>False</td>\n",
       "      <td>{'id': 96871, 'name': 'Father of the Bride Col...</td>\n",
       "      <td>0</td>\n",
       "      <td>[{'id': 35, 'name': 'Comedy'}]</td>\n",
       "      <td>NaN</td>\n",
       "      <td>11862</td>\n",
       "      <td>tt0113041</td>\n",
       "      <td>en</td>\n",
       "      <td>Father of the Bride Part II</td>\n",
       "      <td>Just when George Banks has recovered from his ...</td>\n",
       "      <td>...</td>\n",
       "      <td>1995-02-10</td>\n",
       "      <td>76578911.0</td>\n",
       "      <td>106.0</td>\n",
       "      <td>[{'iso_639_1': 'en', 'name': 'English'}]</td>\n",
       "      <td>Released</td>\n",
       "      <td>Just When His World Is Back To Normal... He's ...</td>\n",
       "      <td>Father of the Bride Part II</td>\n",
       "      <td>False</td>\n",
       "      <td>5.7</td>\n",
       "      <td>173.0</td>\n",
       "    </tr>\n",
       "  </tbody>\n",
       "</table>\n",
       "<p>5 rows × 24 columns</p>\n",
       "</div>"
      ],
      "text/plain": [
       "   adult                              belongs_to_collection    budget  \\\n",
       "0  False  {'id': 10194, 'name': 'Toy Story Collection', ...  30000000   \n",
       "1  False                                                NaN  65000000   \n",
       "2  False  {'id': 119050, 'name': 'Grumpy Old Men Collect...         0   \n",
       "3  False                                                NaN  16000000   \n",
       "4  False  {'id': 96871, 'name': 'Father of the Bride Col...         0   \n",
       "\n",
       "                                              genres  \\\n",
       "0  [{'id': 16, 'name': 'Animation'}, {'id': 35, '...   \n",
       "1  [{'id': 12, 'name': 'Adventure'}, {'id': 14, '...   \n",
       "2  [{'id': 10749, 'name': 'Romance'}, {'id': 35, ...   \n",
       "3  [{'id': 35, 'name': 'Comedy'}, {'id': 18, 'nam...   \n",
       "4                     [{'id': 35, 'name': 'Comedy'}]   \n",
       "\n",
       "                               homepage     id    imdb_id original_language  \\\n",
       "0  http://toystory.disney.com/toy-story    862  tt0114709                en   \n",
       "1                                   NaN   8844  tt0113497                en   \n",
       "2                                   NaN  15602  tt0113228                en   \n",
       "3                                   NaN  31357  tt0114885                en   \n",
       "4                                   NaN  11862  tt0113041                en   \n",
       "\n",
       "                original_title  \\\n",
       "0                    Toy Story   \n",
       "1                      Jumanji   \n",
       "2             Grumpier Old Men   \n",
       "3            Waiting to Exhale   \n",
       "4  Father of the Bride Part II   \n",
       "\n",
       "                                            overview  ... release_date  \\\n",
       "0  Led by Woody, Andy's toys live happily in his ...  ...   1995-10-30   \n",
       "1  When siblings Judy and Peter discover an encha...  ...   1995-12-15   \n",
       "2  A family wedding reignites the ancient feud be...  ...   1995-12-22   \n",
       "3  Cheated on, mistreated and stepped on, the wom...  ...   1995-12-22   \n",
       "4  Just when George Banks has recovered from his ...  ...   1995-02-10   \n",
       "\n",
       "       revenue runtime                                   spoken_languages  \\\n",
       "0  373554033.0    81.0           [{'iso_639_1': 'en', 'name': 'English'}]   \n",
       "1  262797249.0   104.0  [{'iso_639_1': 'en', 'name': 'English'}, {'iso...   \n",
       "2          0.0   101.0           [{'iso_639_1': 'en', 'name': 'English'}]   \n",
       "3   81452156.0   127.0           [{'iso_639_1': 'en', 'name': 'English'}]   \n",
       "4   76578911.0   106.0           [{'iso_639_1': 'en', 'name': 'English'}]   \n",
       "\n",
       "     status                                            tagline  \\\n",
       "0  Released                                                NaN   \n",
       "1  Released          Roll the dice and unleash the excitement!   \n",
       "2  Released  Still Yelling. Still Fighting. Still Ready for...   \n",
       "3  Released  Friends are the people who let you be yourself...   \n",
       "4  Released  Just When His World Is Back To Normal... He's ...   \n",
       "\n",
       "                         title  video vote_average vote_count  \n",
       "0                    Toy Story  False          7.7     5415.0  \n",
       "1                      Jumanji  False          6.9     2413.0  \n",
       "2             Grumpier Old Men  False          6.5       92.0  \n",
       "3            Waiting to Exhale  False          6.1       34.0  \n",
       "4  Father of the Bride Part II  False          5.7      173.0  \n",
       "\n",
       "[5 rows x 24 columns]"
      ]
     },
     "execution_count": 6,
     "metadata": {},
     "output_type": "execute_result"
    }
   ],
   "source": [
    "meta.head()"
   ]
  },
  {
   "cell_type": "markdown",
   "metadata": {},
   "source": [
    "## data.csv"
   ]
  },
  {
   "cell_type": "code",
   "execution_count": 7,
   "metadata": {
    "ExecuteTime": {
     "end_time": "2022-01-22T19:21:28.368708Z",
     "start_time": "2022-01-22T19:21:28.230981Z"
    }
   },
   "outputs": [],
   "source": [
    "old_movie_data = pd.read_csv('MyData/data.csv')"
   ]
  },
  {
   "cell_type": "code",
   "execution_count": 8,
   "metadata": {
    "ExecuteTime": {
     "end_time": "2022-01-22T19:21:28.461907Z",
     "start_time": "2022-01-22T19:21:28.373695Z"
    }
   },
   "outputs": [
    {
     "name": "stdout",
     "output_type": "stream",
     "text": [
      "<class 'pandas.core.frame.DataFrame'>\n",
      "RangeIndex: 5043 entries, 0 to 5042\n",
      "Data columns (total 7 columns):\n",
      " #   Column         Non-Null Count  Dtype \n",
      "---  ------         --------------  ----- \n",
      " 0   director_name  5043 non-null   object\n",
      " 1   actor_1_name   5043 non-null   object\n",
      " 2   actor_2_name   5043 non-null   object\n",
      " 3   actor_3_name   5043 non-null   object\n",
      " 4   genres         5043 non-null   object\n",
      " 5   movie_title    5043 non-null   object\n",
      " 6   comb           5043 non-null   object\n",
      "dtypes: object(7)\n",
      "memory usage: 275.9+ KB\n"
     ]
    }
   ],
   "source": [
    "old_movie_data.info()"
   ]
  },
  {
   "cell_type": "markdown",
   "metadata": {},
   "source": [
    "# Data Preprocessing & Cleaning"
   ]
  },
  {
   "cell_type": "code",
   "execution_count": 9,
   "metadata": {
    "ExecuteTime": {
     "end_time": "2022-01-22T19:21:28.633448Z",
     "start_time": "2022-01-22T19:21:28.468888Z"
    }
   },
   "outputs": [
    {
     "name": "stdout",
     "output_type": "stream",
     "text": [
      "<class 'pandas.core.frame.DataFrame'>\n",
      "RangeIndex: 45476 entries, 0 to 45475\n",
      "Data columns (total 3 columns):\n",
      " #   Column  Non-Null Count  Dtype \n",
      "---  ------  --------------  ----- \n",
      " 0   cast    45476 non-null  object\n",
      " 1   crew    45476 non-null  object\n",
      " 2   id      45476 non-null  int64 \n",
      "dtypes: int64(1), object(2)\n",
      "memory usage: 1.0+ MB\n"
     ]
    }
   ],
   "source": [
    "# Quick overview of dataset columns,shape,size,datatypes\n",
    "df.info()"
   ]
  },
  {
   "cell_type": "code",
   "execution_count": 10,
   "metadata": {
    "ExecuteTime": {
     "end_time": "2022-01-22T19:21:28.802709Z",
     "start_time": "2022-01-22T19:21:28.637437Z"
    }
   },
   "outputs": [
    {
     "name": "stdout",
     "output_type": "stream",
     "text": [
      "<class 'pandas.core.frame.DataFrame'>\n",
      "RangeIndex: 45466 entries, 0 to 45465\n",
      "Data columns (total 24 columns):\n",
      " #   Column                 Non-Null Count  Dtype  \n",
      "---  ------                 --------------  -----  \n",
      " 0   adult                  45466 non-null  object \n",
      " 1   belongs_to_collection  4494 non-null   object \n",
      " 2   budget                 45466 non-null  object \n",
      " 3   genres                 45466 non-null  object \n",
      " 4   homepage               7782 non-null   object \n",
      " 5   id                     45466 non-null  object \n",
      " 6   imdb_id                45449 non-null  object \n",
      " 7   original_language      45455 non-null  object \n",
      " 8   original_title         45466 non-null  object \n",
      " 9   overview               44512 non-null  object \n",
      " 10  popularity             45461 non-null  object \n",
      " 11  poster_path            45080 non-null  object \n",
      " 12  production_companies   45463 non-null  object \n",
      " 13  production_countries   45463 non-null  object \n",
      " 14  release_date           45379 non-null  object \n",
      " 15  revenue                45460 non-null  float64\n",
      " 16  runtime                45203 non-null  float64\n",
      " 17  spoken_languages       45460 non-null  object \n",
      " 18  status                 45379 non-null  object \n",
      " 19  tagline                20412 non-null  object \n",
      " 20  title                  45460 non-null  object \n",
      " 21  video                  45460 non-null  object \n",
      " 22  vote_average           45460 non-null  float64\n",
      " 23  vote_count             45460 non-null  float64\n",
      "dtypes: float64(4), object(20)\n",
      "memory usage: 8.3+ MB\n"
     ]
    }
   ],
   "source": [
    "# Quick overview of movie dataset columns,shape,size,datatypes\n",
    "meta.info()"
   ]
  },
  {
   "cell_type": "code",
   "execution_count": 11,
   "metadata": {
    "ExecuteTime": {
     "end_time": "2022-01-22T19:21:28.894323Z",
     "start_time": "2022-01-22T19:21:28.805701Z"
    }
   },
   "outputs": [],
   "source": [
    "# convert release_date from object to datetime\n",
    "meta['release_date'] = pd.to_datetime(meta['release_date'],errors='coerce')"
   ]
  },
  {
   "cell_type": "code",
   "execution_count": 12,
   "metadata": {
    "ExecuteTime": {
     "end_time": "2022-01-22T19:21:28.986130Z",
     "start_time": "2022-01-22T19:21:28.897317Z"
    }
   },
   "outputs": [],
   "source": [
    "# Create a Year column using \n",
    "meta['year'] = meta['release_date'].dt.year"
   ]
  },
  {
   "cell_type": "code",
   "execution_count": 13,
   "metadata": {
    "ExecuteTime": {
     "end_time": "2022-01-22T19:21:29.126549Z",
     "start_time": "2022-01-22T19:21:28.996059Z"
    },
    "scrolled": true
   },
   "outputs": [
    {
     "data": {
      "text/plain": [
       "1874.0       1\n",
       "1878.0       1\n",
       "1883.0       1\n",
       "1887.0       1\n",
       "1888.0       2\n",
       "          ... \n",
       "2015.0    1905\n",
       "2016.0    1604\n",
       "2017.0     532\n",
       "2018.0       5\n",
       "2020.0       1\n",
       "Name: year, Length: 135, dtype: int64"
      ]
     },
     "execution_count": 13,
     "metadata": {},
     "output_type": "execute_result"
    }
   ],
   "source": [
    "meta['year'].value_counts().sort_index()"
   ]
  },
  {
   "cell_type": "code",
   "execution_count": 14,
   "metadata": {
    "ExecuteTime": {
     "end_time": "2022-01-22T19:21:29.234536Z",
     "start_time": "2022-01-22T19:21:29.131534Z"
    }
   },
   "outputs": [],
   "source": [
    "# Extract only data from year 2017\n",
    "# Since we have already data till 2016 from previous preprocessing part1 -> \"data.csv\"\n",
    "# data for 2018,2019,2020 will be processed in further preprocessing files\n",
    "\n",
    "selected_df = meta.loc[meta['year']==2017,['genres','title','id','year']]"
   ]
  },
  {
   "cell_type": "code",
   "execution_count": 15,
   "metadata": {
    "ExecuteTime": {
     "end_time": "2022-01-22T19:21:29.405841Z",
     "start_time": "2022-01-22T19:21:29.236784Z"
    }
   },
   "outputs": [],
   "source": [
    "selected_df = selected_df.astype({'id':'int64','year':'int64'})"
   ]
  },
  {
   "cell_type": "code",
   "execution_count": 16,
   "metadata": {
    "ExecuteTime": {
     "end_time": "2022-01-22T19:21:29.530832Z",
     "start_time": "2022-01-22T19:21:29.409528Z"
    },
    "scrolled": true
   },
   "outputs": [
    {
     "name": "stdout",
     "output_type": "stream",
     "text": [
      "<class 'pandas.core.frame.DataFrame'>\n",
      "Int64Index: 532 entries, 26560 to 45465\n",
      "Data columns (total 4 columns):\n",
      " #   Column  Non-Null Count  Dtype \n",
      "---  ------  --------------  ----- \n",
      " 0   genres  532 non-null    object\n",
      " 1   title   532 non-null    object\n",
      " 2   id      532 non-null    int64 \n",
      " 3   year    532 non-null    int64 \n",
      "dtypes: int64(2), object(2)\n",
      "memory usage: 20.8+ KB\n"
     ]
    }
   ],
   "source": [
    "selected_df.info()"
   ]
  },
  {
   "cell_type": "code",
   "execution_count": 17,
   "metadata": {
    "ExecuteTime": {
     "end_time": "2022-01-22T19:21:29.639946Z",
     "start_time": "2022-01-22T19:21:29.533827Z"
    }
   },
   "outputs": [],
   "source": [
    "# merging dataframes \n",
    "data = selected_df.merge(df,on='id').rename(columns={'title':'movie_title'})"
   ]
  },
  {
   "cell_type": "code",
   "execution_count": 18,
   "metadata": {
    "ExecuteTime": {
     "end_time": "2022-01-22T19:21:29.809679Z",
     "start_time": "2022-01-22T19:21:29.646930Z"
    },
    "scrolled": true
   },
   "outputs": [],
   "source": [
    "def genre_names(x):\n",
    "    \"\"\"\n",
    "    Description :\n",
    "    Parameters :\n",
    "    Steps:\n",
    "    Return: dataframe\n",
    "    \"\"\"\n",
    "    \n",
    "    genres = []\n",
    "    st = ' '\n",
    "    \n",
    "    for i in x :\n",
    "        if i.get('name') == 'Science Fiction':\n",
    "            scifi = 'Sci-Fi'\n",
    "            genres.append(scifi)\n",
    "        else:\n",
    "            genres.append(i.get('name'))\n",
    "    if genres == []:\n",
    "        return np.NaN\n",
    "    else:\n",
    "        return (st.join(genres))\n",
    "    \n",
    "def actors_names(dataframe):\n",
    "    \"\"\"\n",
    "    Description :\n",
    "    Parameters :\n",
    "    Steps:\n",
    "    Return: dataframe\n",
    "    \"\"\"\n",
    "    lit_df = dataframe['cast'].map(lambda x: ast.literal_eval(x))\n",
    "    print(f\"Cast  !!!\")\n",
    "    l = []\n",
    "    for num in range(len(lit_df)):\n",
    "        x = [i.get('name') for i in lit_df[num]][:3]\n",
    "        l.append(x)\n",
    "    \n",
    "    temp_df = pd.DataFrame(l,columns=['actor_1_name','actor_2_name','actor_3_name']).fillna(np.NaN)\n",
    "    return temp_df\n",
    "\n",
    "\n",
    "def director_names(x):\n",
    "    \"\"\"\n",
    "    Description :\n",
    "    Parameters :\n",
    "    Steps:\n",
    "    Return: dataframe\n",
    "    \"\"\"\n",
    "    dct = []\n",
    "    st = \" \"\n",
    "    for i in x:\n",
    "        if i.get('job')=='Director':\n",
    "            dct.append(i.get('name'))\n",
    "    if dct == []:\n",
    "        return np.NaN\n",
    "    else:\n",
    "        return (st.join(dct))\n",
    "    \n",
    "    \n",
    "# Create function to clean main dataframe\n",
    "\n",
    "def clean_data(dataframe):\n",
    "\n",
    "    # evaluates an expression node or a string containing a Python literal or container display\n",
    "\n",
    "    genre_data = dataframe['genres'].map(lambda x: ast.literal_eval(x))\n",
    "    genre_df = pd.DataFrame(genre_data.apply(lambda x:genre_names(x))).rename(columns={'genres':'genres_list'})\n",
    "    print('Genres Done !!!')\n",
    "\n",
    "    # getting seperate cast list as actor1,2,3\n",
    "    actor_df = actors_names(dataframe)\n",
    "\n",
    "    # getting director name according to movies\n",
    "    crew_data = dataframe['crew'].map(lambda x: ast.literal_eval(x))\n",
    "    director_df = pd.DataFrame(crew_data.apply(lambda x:director_names(x))).rename(columns={'crew':'director_name'})\n",
    "    print(\"Director Done !!!\")\n",
    "    \n",
    "    # lowercase Movie_title\n",
    "    dataframe['movie_title'] = dataframe['movie_title'].str.lower()\n",
    "\n",
    "    df_list = [dataframe, genre_df, actor_df,director_df]\n",
    "    combind_df_list = pd.concat(df_list,axis=1).drop(columns=['cast','crew','genres','year','id'])\n",
    "    dataframe = combind_df_list.copy()\n",
    "\n",
    "    return dataframe\n"
   ]
  },
  {
   "cell_type": "code",
   "execution_count": 19,
   "metadata": {
    "ExecuteTime": {
     "end_time": "2022-01-22T19:21:31.052347Z",
     "start_time": "2022-01-22T19:21:29.812670Z"
    }
   },
   "outputs": [
    {
     "name": "stdout",
     "output_type": "stream",
     "text": [
      "Genres Done !!!\n",
      "Cast  !!!\n",
      "Director Done !!!\n"
     ]
    }
   ],
   "source": [
    "movie = clean_data(data).dropna(how='any').rename(columns = {'genres_list':'genres'})"
   ]
  },
  {
   "cell_type": "code",
   "execution_count": 20,
   "metadata": {
    "ExecuteTime": {
     "end_time": "2022-01-22T19:21:31.084261Z",
     "start_time": "2022-01-22T19:21:31.056336Z"
    }
   },
   "outputs": [
    {
     "data": {
      "text/html": [
       "<div>\n",
       "<style scoped>\n",
       "    .dataframe tbody tr th:only-of-type {\n",
       "        vertical-align: middle;\n",
       "    }\n",
       "\n",
       "    .dataframe tbody tr th {\n",
       "        vertical-align: top;\n",
       "    }\n",
       "\n",
       "    .dataframe thead th {\n",
       "        text-align: right;\n",
       "    }\n",
       "</style>\n",
       "<table border=\"1\" class=\"dataframe\">\n",
       "  <thead>\n",
       "    <tr style=\"text-align: right;\">\n",
       "      <th></th>\n",
       "      <th>movie_title</th>\n",
       "      <th>genres</th>\n",
       "      <th>actor_1_name</th>\n",
       "      <th>actor_2_name</th>\n",
       "      <th>actor_3_name</th>\n",
       "      <th>director_name</th>\n",
       "    </tr>\n",
       "  </thead>\n",
       "  <tbody>\n",
       "    <tr>\n",
       "      <th>57</th>\n",
       "      <td>rings</td>\n",
       "      <td>Horror</td>\n",
       "      <td>Matilda Anna Ingrid Lutz</td>\n",
       "      <td>Alex Roe</td>\n",
       "      <td>Johnny Galecki</td>\n",
       "      <td>F. Javier Gutiérrez</td>\n",
       "    </tr>\n",
       "    <tr>\n",
       "      <th>137</th>\n",
       "      <td>britney ever after</td>\n",
       "      <td>Drama TV Movie</td>\n",
       "      <td>Natasha Bassett</td>\n",
       "      <td>Jenna Berman</td>\n",
       "      <td>Matthew Harrison</td>\n",
       "      <td>Leslie Libman</td>\n",
       "    </tr>\n",
       "    <tr>\n",
       "      <th>460</th>\n",
       "      <td>78/52</td>\n",
       "      <td>Documentary</td>\n",
       "      <td>Guillermo del Toro</td>\n",
       "      <td>Peter Bogdanovich</td>\n",
       "      <td>Karyn Kusama</td>\n",
       "      <td>Alexandre O. Philippe</td>\n",
       "    </tr>\n",
       "    <tr>\n",
       "      <th>385</th>\n",
       "      <td>lucid dream</td>\n",
       "      <td>Sci-Fi Thriller</td>\n",
       "      <td>Go Soo</td>\n",
       "      <td>Sol Kyung-gu</td>\n",
       "      <td>Park Yoo-chun</td>\n",
       "      <td>Kim Joon-Sung</td>\n",
       "    </tr>\n",
       "    <tr>\n",
       "      <th>427</th>\n",
       "      <td>tubelight</td>\n",
       "      <td>Drama History War</td>\n",
       "      <td>Salman Khan</td>\n",
       "      <td>Zhu Zhu</td>\n",
       "      <td>Sohail Khan</td>\n",
       "      <td>Kabir Khan</td>\n",
       "    </tr>\n",
       "  </tbody>\n",
       "</table>\n",
       "</div>"
      ],
      "text/plain": [
       "            movie_title             genres              actor_1_name  \\\n",
       "57                rings             Horror  Matilda Anna Ingrid Lutz   \n",
       "137  britney ever after     Drama TV Movie           Natasha Bassett   \n",
       "460               78/52        Documentary        Guillermo del Toro   \n",
       "385         lucid dream    Sci-Fi Thriller                    Go Soo   \n",
       "427           tubelight  Drama History War               Salman Khan   \n",
       "\n",
       "          actor_2_name      actor_3_name          director_name  \n",
       "57            Alex Roe    Johnny Galecki    F. Javier Gutiérrez  \n",
       "137       Jenna Berman  Matthew Harrison          Leslie Libman  \n",
       "460  Peter Bogdanovich      Karyn Kusama  Alexandre O. Philippe  \n",
       "385       Sol Kyung-gu     Park Yoo-chun          Kim Joon-Sung  \n",
       "427            Zhu Zhu       Sohail Khan             Kabir Khan  "
      ]
     },
     "execution_count": 20,
     "metadata": {},
     "output_type": "execute_result"
    }
   ],
   "source": [
    "movie.sample(5)"
   ]
  },
  {
   "cell_type": "code",
   "execution_count": 21,
   "metadata": {
    "ExecuteTime": {
     "end_time": "2022-01-22T19:21:31.190517Z",
     "start_time": "2022-01-22T19:21:31.087254Z"
    }
   },
   "outputs": [],
   "source": [
    "movie['comb'] = movie['actor_1_name']+ ' ' +movie['actor_2_name']+ ' ' +movie['actor_3_name']+ ' ' + movie['director_name']+ ' ' + movie['genres']"
   ]
  },
  {
   "cell_type": "code",
   "execution_count": 676,
   "metadata": {
    "ExecuteTime": {
     "end_time": "2022-01-22T19:12:48.697396Z",
     "start_time": "2022-01-22T19:12:48.671466Z"
    }
   },
   "outputs": [
    {
     "data": {
      "text/html": [
       "<div>\n",
       "<style scoped>\n",
       "    .dataframe tbody tr th:only-of-type {\n",
       "        vertical-align: middle;\n",
       "    }\n",
       "\n",
       "    .dataframe tbody tr th {\n",
       "        vertical-align: top;\n",
       "    }\n",
       "\n",
       "    .dataframe thead th {\n",
       "        text-align: right;\n",
       "    }\n",
       "</style>\n",
       "<table border=\"1\" class=\"dataframe\">\n",
       "  <thead>\n",
       "    <tr style=\"text-align: right;\">\n",
       "      <th></th>\n",
       "      <th>movie_title</th>\n",
       "      <th>id</th>\n",
       "      <th>genre</th>\n",
       "      <th>actor_1_name</th>\n",
       "      <th>actor_2_name</th>\n",
       "      <th>actor_3_name</th>\n",
       "      <th>director_name</th>\n",
       "      <th>comb</th>\n",
       "    </tr>\n",
       "  </thead>\n",
       "  <tbody>\n",
       "    <tr>\n",
       "      <th>0</th>\n",
       "      <td>pirates of the caribbean: dead men tell no tales</td>\n",
       "      <td>166426</td>\n",
       "      <td>Adventure Action Fantasy Comedy</td>\n",
       "      <td>Johnny Depp</td>\n",
       "      <td>Javier Bardem</td>\n",
       "      <td>Geoffrey Rush</td>\n",
       "      <td>Joachim Rønning Espen Sandberg</td>\n",
       "      <td>Johnny Depp Javier Bardem Geoffrey Rush Joachi...</td>\n",
       "    </tr>\n",
       "    <tr>\n",
       "      <th>1</th>\n",
       "      <td>justice league</td>\n",
       "      <td>141052</td>\n",
       "      <td>Action Adventure Fantasy Sci-Fi</td>\n",
       "      <td>Ben Affleck</td>\n",
       "      <td>Henry Cavill</td>\n",
       "      <td>Gal Gadot</td>\n",
       "      <td>Zack Snyder</td>\n",
       "      <td>Ben Affleck Henry Cavill Gal Gadot Zack Snyder...</td>\n",
       "    </tr>\n",
       "    <tr>\n",
       "      <th>2</th>\n",
       "      <td>thor: ragnarok</td>\n",
       "      <td>284053</td>\n",
       "      <td>Action Adventure Fantasy Sci-Fi</td>\n",
       "      <td>Chris Hemsworth</td>\n",
       "      <td>Tom Hiddleston</td>\n",
       "      <td>Cate Blanchett</td>\n",
       "      <td>Taika Waititi</td>\n",
       "      <td>Chris Hemsworth Tom Hiddleston Cate Blanchett ...</td>\n",
       "    </tr>\n",
       "    <tr>\n",
       "      <th>3</th>\n",
       "      <td>guardians of the galaxy vol. 2</td>\n",
       "      <td>283995</td>\n",
       "      <td>Action Adventure Comedy Sci-Fi</td>\n",
       "      <td>Chris Pratt</td>\n",
       "      <td>Zoe Saldana</td>\n",
       "      <td>Dave Bautista</td>\n",
       "      <td>James Gunn</td>\n",
       "      <td>Chris Pratt Zoe Saldana Dave Bautista James Gu...</td>\n",
       "    </tr>\n",
       "    <tr>\n",
       "      <th>4</th>\n",
       "      <td>the king's daughter</td>\n",
       "      <td>245842</td>\n",
       "      <td>Fantasy Action Adventure</td>\n",
       "      <td>Pierce Brosnan</td>\n",
       "      <td>William Hurt</td>\n",
       "      <td>Benjamin Walker</td>\n",
       "      <td>Sean McNamara</td>\n",
       "      <td>Pierce Brosnan William Hurt Benjamin Walker Se...</td>\n",
       "    </tr>\n",
       "  </tbody>\n",
       "</table>\n",
       "</div>"
      ],
      "text/plain": [
       "                                        movie_title      id  \\\n",
       "0  pirates of the caribbean: dead men tell no tales  166426   \n",
       "1                                    justice league  141052   \n",
       "2                                    thor: ragnarok  284053   \n",
       "3                    guardians of the galaxy vol. 2  283995   \n",
       "4                               the king's daughter  245842   \n",
       "\n",
       "                             genre     actor_1_name    actor_2_name  \\\n",
       "0  Adventure Action Fantasy Comedy      Johnny Depp   Javier Bardem   \n",
       "1  Action Adventure Fantasy Sci-Fi      Ben Affleck    Henry Cavill   \n",
       "2  Action Adventure Fantasy Sci-Fi  Chris Hemsworth  Tom Hiddleston   \n",
       "3   Action Adventure Comedy Sci-Fi      Chris Pratt     Zoe Saldana   \n",
       "4         Fantasy Action Adventure   Pierce Brosnan    William Hurt   \n",
       "\n",
       "      actor_3_name                   director_name  \\\n",
       "0    Geoffrey Rush  Joachim Rønning Espen Sandberg   \n",
       "1        Gal Gadot                     Zack Snyder   \n",
       "2   Cate Blanchett                   Taika Waititi   \n",
       "3    Dave Bautista                      James Gunn   \n",
       "4  Benjamin Walker                   Sean McNamara   \n",
       "\n",
       "                                                comb  \n",
       "0  Johnny Depp Javier Bardem Geoffrey Rush Joachi...  \n",
       "1  Ben Affleck Henry Cavill Gal Gadot Zack Snyder...  \n",
       "2  Chris Hemsworth Tom Hiddleston Cate Blanchett ...  \n",
       "3  Chris Pratt Zoe Saldana Dave Bautista James Gu...  \n",
       "4  Pierce Brosnan William Hurt Benjamin Walker Se...  "
      ]
     },
     "execution_count": 676,
     "metadata": {},
     "output_type": "execute_result"
    }
   ],
   "source": [
    "movie.head()"
   ]
  },
  {
   "cell_type": "markdown",
   "metadata": {},
   "source": [
    "# Data Merge"
   ]
  },
  {
   "cell_type": "code",
   "execution_count": 30,
   "metadata": {
    "ExecuteTime": {
     "end_time": "2022-01-22T19:23:02.853806Z",
     "start_time": "2022-01-22T19:23:02.815935Z"
    }
   },
   "outputs": [],
   "source": [
    "movie_updated = old_movie_data.append(movie).drop_duplicates(keep='last',ignore_index=True)"
   ]
  },
  {
   "cell_type": "code",
   "execution_count": 31,
   "metadata": {
    "ExecuteTime": {
     "end_time": "2022-01-22T19:23:19.258928Z",
     "start_time": "2022-01-22T19:23:19.239979Z"
    }
   },
   "outputs": [
    {
     "name": "stdout",
     "output_type": "stream",
     "text": [
      "<class 'pandas.core.frame.DataFrame'>\n",
      "RangeIndex: 5377 entries, 0 to 5376\n",
      "Data columns (total 7 columns):\n",
      " #   Column         Non-Null Count  Dtype \n",
      "---  ------         --------------  ----- \n",
      " 0   director_name  5377 non-null   object\n",
      " 1   actor_1_name   5377 non-null   object\n",
      " 2   actor_2_name   5377 non-null   object\n",
      " 3   actor_3_name   5377 non-null   object\n",
      " 4   genres         5377 non-null   object\n",
      " 5   movie_title    5377 non-null   object\n",
      " 6   comb           5377 non-null   object\n",
      "dtypes: object(7)\n",
      "memory usage: 294.2+ KB\n"
     ]
    }
   ],
   "source": [
    "movie_updated.info()"
   ]
  },
  {
   "cell_type": "markdown",
   "metadata": {},
   "source": [
    "# Export Dataset"
   ]
  },
  {
   "cell_type": "code",
   "execution_count": 32,
   "metadata": {
    "ExecuteTime": {
     "end_time": "2022-01-22T19:26:37.546991Z",
     "start_time": "2022-01-22T19:26:37.488995Z"
    }
   },
   "outputs": [],
   "source": [
    "movie_updated.to_csv(\"MyData/updated_movie_till_2017.csv\",index=False)"
   ]
  }
 ],
 "metadata": {
  "kernelspec": {
   "display_name": "Python 3",
   "language": "python",
   "name": "python3"
  },
  "language_info": {
   "codemirror_mode": {
    "name": "ipython",
    "version": 3
   },
   "file_extension": ".py",
   "mimetype": "text/x-python",
   "name": "python",
   "nbconvert_exporter": "python",
   "pygments_lexer": "ipython3",
   "version": "3.7.9"
  },
  "toc": {
   "base_numbering": 1,
   "nav_menu": {},
   "number_sections": true,
   "sideBar": true,
   "skip_h1_title": false,
   "title_cell": "Table of Contents",
   "title_sidebar": "Contents",
   "toc_cell": false,
   "toc_position": {},
   "toc_section_display": true,
   "toc_window_display": true
  },
  "varInspector": {
   "cols": {
    "lenName": 16,
    "lenType": 16,
    "lenVar": 40
   },
   "kernels_config": {
    "python": {
     "delete_cmd_postfix": "",
     "delete_cmd_prefix": "del ",
     "library": "var_list.py",
     "varRefreshCmd": "print(var_dic_list())"
    },
    "r": {
     "delete_cmd_postfix": ") ",
     "delete_cmd_prefix": "rm(",
     "library": "var_list.r",
     "varRefreshCmd": "cat(var_dic_list()) "
    }
   },
   "types_to_exclude": [
    "module",
    "function",
    "builtin_function_or_method",
    "instance",
    "_Feature"
   ],
   "window_display": false
  }
 },
 "nbformat": 4,
 "nbformat_minor": 4
}
